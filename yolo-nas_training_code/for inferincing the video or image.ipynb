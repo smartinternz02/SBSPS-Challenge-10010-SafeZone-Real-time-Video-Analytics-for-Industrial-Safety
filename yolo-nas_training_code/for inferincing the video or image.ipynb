{
 "cells": [
  {
   "cell_type": "code",
   "execution_count": 1,
   "metadata": {},
   "outputs": [
    {
     "name": "stdout",
     "output_type": "stream",
     "text": [
      "The console stream is logged into C:\\Users\\ravit\\sg_logs\\console.log\n"
     ]
    },
    {
     "name": "stderr",
     "output_type": "stream",
     "text": [
      "[2023-08-29 08:50:30] INFO - crash_tips_setup.py - Crash tips is enabled. You can set your environment variable to CRASH_HANDLER=FALSE to disable it\n",
      "[2023-08-29 08:50:31] WARNING - redirects.py - NOTE: Redirects are currently not supported in Windows or MacOs.\n",
      "c:\\Users\\ravit\\anaconda3\\envs\\project_ibmhackathon\\lib\\site-packages\\_distutils_hack\\__init__.py:33: UserWarning: Setuptools is replacing distutils.\n",
      "  warnings.warn(\"Setuptools is replacing distutils.\")\n",
      "[2023-08-29 08:50:36] WARNING - __init__.py - Failed to import pytorch_quantization\n",
      "[2023-08-29 08:50:36] WARNING - calibrator.py - Failed to import pytorch_quantization\n",
      "[2023-08-29 08:50:36] WARNING - export.py - Failed to import pytorch_quantization\n",
      "[2023-08-29 08:50:36] WARNING - selective_quantization_utils.py - Failed to import pytorch_quantization\n",
      "[2023-08-29 08:50:36] WARNING - env_sanity_check.py - \u001b[31mFailed to verify operating system: Deci officially supports only Linux kernels. Some features may not work as expected.\u001b[0m\n"
     ]
    }
   ],
   "source": [
    "from super_gradients.training import Trainer\n",
    "from super_gradients.training import dataloaders\n",
    "from super_gradients.training.dataloaders.dataloaders import coco_detection_yolo_format_train, coco_detection_yolo_format_val"
   ]
  },
  {
   "cell_type": "code",
   "execution_count": 2,
   "metadata": {},
   "outputs": [],
   "source": [
    "from IPython.display import clear_output\n",
    "from super_gradients.training.losses import PPYoloELoss\n",
    "from super_gradients.training.metrics import DetectionMetrics_050\n",
    "from super_gradients.training.models.detection_models.pp_yolo_e import PPYoloEPostPredictionCallback"
   ]
  },
  {
   "cell_type": "code",
   "execution_count": 3,
   "metadata": {},
   "outputs": [],
   "source": [
    "from super_gradients.training import models"
   ]
  },
  {
   "cell_type": "code",
   "execution_count": null,
   "metadata": {},
   "outputs": [],
   "source": []
  },
  {
   "cell_type": "code",
   "execution_count": 4,
   "metadata": {},
   "outputs": [],
   "source": [
    "CHECKPOINT_DIR = 'D://PROJECTS/ibm_hackathon/project_industry/newnew_data/newcheckpoints'\n",
    "trainer = Trainer(experiment_name='yolo_nas', ckpt_root_dir=CHECKPOINT_DIR)"
   ]
  },
  {
   "cell_type": "code",
   "execution_count": 5,
   "metadata": {},
   "outputs": [],
   "source": [
    "\n",
    "dataset_params = {\n",
    "    'data_dir':'D:/PROJECTS/ibm_hackathon/project_industry/newnew_data',\n",
    "    'train_images_dir':'D:/PROJECTS/ibm_hackathon/project_industry/newnew_data/data/train/images',\n",
    "    'train_labels_dir':'D:/PROJECTS/ibm_hackathon/project_industry/newnew_data/data/train/labels',\n",
    "    'val_images_dir':'D:/PROJECTS/ibm_hackathon/project_industry/newnew_data/data/valid/images',\n",
    "    'val_labels_dir':'D:/PROJECTS/ibm_hackathon/project_industry/newnew_data/data/valid/labels',\n",
    "    'test_images_dir':'D:/PROJECTS/ibm_hackathon/project_industry/newnew_data/data/test/images',\n",
    "    'test_labels_dir':'D:/PROJECTS/ibm_hackathon/project_industry/newnew_data/data/test/labels',\n",
    "    'classes':['Fall Detected', 'Fire', 'Person', 'Smoke', 'Vest', 'hard hat']\n",
    "}"
   ]
  },
  {
   "cell_type": "code",
   "execution_count": 6,
   "metadata": {},
   "outputs": [
    {
     "name": "stderr",
     "output_type": "stream",
     "text": [
      "Caching annotations: 100%|██████████| 34/34 [00:00<00:00, 838.39it/s]\n"
     ]
    }
   ],
   "source": [
    "train_data = coco_detection_yolo_format_train(\n",
    "    dataset_params={\n",
    "        'data_dir': dataset_params['data_dir'],\n",
    "        'images_dir': dataset_params['train_images_dir'],\n",
    "        'labels_dir': dataset_params['train_labels_dir'],\n",
    "        'classes': dataset_params['classes']\n",
    "    },\n",
    "    dataloader_params={\n",
    "        'batch_size':8,\n",
    "        'num_workers':0\n",
    "    }\n",
    ")\n",
    "\n",
    "val_data = coco_detection_yolo_format_val(\n",
    "    dataset_params={\n",
    "        'data_dir': dataset_params['data_dir'],\n",
    "        'images_dir': dataset_params['val_images_dir'],\n",
    "        'labels_dir': dataset_params['val_labels_dir'],\n",
    "        'classes': dataset_params['classes']\n",
    "    },\n",
    "    dataloader_params={\n",
    "        'batch_size':8,\n",
    "        'num_workers':0\n",
    "    }\n",
    ")\n",
    "\n",
    "test_data = coco_detection_yolo_format_val(\n",
    "    dataset_params={\n",
    "        'data_dir': dataset_params['data_dir'],\n",
    "        'images_dir': dataset_params['test_images_dir'],\n",
    "        'labels_dir': dataset_params['test_labels_dir'],\n",
    "        'classes': dataset_params['classes']\n",
    "    },\n",
    "    dataloader_params={\n",
    "        'batch_size':8,\n",
    "        'num_workers':0\n",
    "    }\n",
    ")\n",
    "\n",
    "clear_output()"
   ]
  },
  {
   "cell_type": "code",
   "execution_count": 7,
   "metadata": {},
   "outputs": [
    {
     "name": "stderr",
     "output_type": "stream",
     "text": [
      "[2023-08-29 08:50:47] INFO - checkpoint_utils.py - License Notification: YOLO-NAS pre-trained weights are subjected to the specific license terms and conditions detailed in \n",
      "https://github.com/Deci-AI/super-gradients/blob/master/LICENSE.YOLONAS.md\n",
      "By downloading the pre-trained weight files you agree to comply with these terms.\n"
     ]
    }
   ],
   "source": [
    "\n",
    "model = models.get('yolo_nas_l', \n",
    "                   num_classes=len(dataset_params['classes']), \n",
    "                   pretrained_weights=\"coco\"\n",
    "                   )\n",
    "     "
   ]
  },
  {
   "cell_type": "code",
   "execution_count": 20,
   "metadata": {},
   "outputs": [],
   "source": [
    "train_params = {\n",
    "    # ENABLING SILENT MODE\n",
    "    'silent_mode': False,\n",
    "    \"average_best_models\":True,\n",
    "    \"warmup_mode\": \"linear_epoch_step\",\n",
    "    \"warmup_initial_lr\": 1e-5,\n",
    "    \"lr_warmup_epochs\": 4,\n",
    "    \"initial_lr\": 5e-3,\n",
    "    \"lr_mode\": \"cosine\",\n",
    "    \"cosine_final_lr_ratio\": 0.2,\n",
    "    \"optimizer\": \"Adam\",\n",
    "    \"optimizer_params\": {\"weight_decay\": 0.00001},\n",
    "    \"zero_weight_decay_on_bias_and_bn\": True,\n",
    "    \"ema\": True,\n",
    "    \"ema_params\": {\"decay\": 0.9, \"decay_type\": \"threshold\"},\n",
    "    # ONLY TRAINING FOR 10 EPOCHS FOR THIS EXAMPLE NOTEBOOK\n",
    "    \"max_epochs\":60,\n",
    "    \"mixed_precision\": True,\n",
    "    \"loss\": PPYoloELoss(\n",
    "        use_static_assigner=False,\n",
    "        # NOTE: num_classes needs to be defined here\n",
    "        num_classes=len(dataset_params['classes']),\n",
    "        reg_max=16\n",
    "    ),\n",
    "    \"valid_metrics_list\": [\n",
    "        DetectionMetrics_050(\n",
    "            score_thres=0.1,\n",
    "            top_k_predictions=300,\n",
    "            # NOTE: num_classes needs to be defined here\n",
    "            num_cls=len(dataset_params['classes']),\n",
    "            normalize_targets=True,\n",
    "            post_prediction_callback=PPYoloEPostPredictionCallback(\n",
    "                score_threshold=0.01,\n",
    "                nms_top_k=1000,\n",
    "                max_predictions=300,\n",
    "                nms_threshold=0.7\n",
    "            )\n",
    "        )\n",
    "    ],\n",
    "    \"metric_to_watch\": 'mAP@0.50'\n",
    "}\n"
   ]
  },
  {
   "cell_type": "code",
   "execution_count": 21,
   "metadata": {},
   "outputs": [
    {
     "name": "stderr",
     "output_type": "stream",
     "text": [
      "[2023-08-29 11:50:44] INFO - checkpoint_utils.py - Successfully loaded model weights from D://PROJECTS/ibm_hackathon/project_industry/newnew_data/checkpoints/yolo_nas/ckpt_best.pth EMA checkpoint.\n"
     ]
    }
   ],
   "source": [
    " best_model = models.get('yolo_nas_l',\n",
    "                        num_classes=len(dataset_params['classes']),\n",
    "                        checkpoint_path=\"D://PROJECTS/ibm_hackathon/project_industry/newnew_data/checkpoints/yolo_nas/ckpt_best.pth\")\n",
    "# this part of code is used to load the model from the checkpoints "
   ]
  },
  {
   "cell_type": "code",
   "execution_count": 22,
   "metadata": {},
   "outputs": [
    {
     "name": "stdout",
     "output_type": "stream",
     "text": [
      "The console stream is now moved to D://PROJECTS/ibm_hackathon/project_industry/newnew_data/newcheckpoints\\yolo_nas/console_Aug29_11_50_49.txt\n"
     ]
    },
    {
     "name": "stderr",
     "output_type": "stream",
     "text": [
      "[2023-08-29 11:50:50] WARNING - base.py - Ignoring invalid distribution -orch (c:\\users\\ravit\\anaconda3\\envs\\project_ibmhackathon\\lib\\site-packages)\n",
      "[2023-08-29 11:50:50] INFO - sg_trainer.py - Using EMA with params {'decay': 0.9, 'decay_type': 'threshold'}\n",
      "[2023-08-29 11:50:51] INFO - sg_trainer_utils.py - TRAINING PARAMETERS:\n",
      "    - Mode:                         Single GPU\n",
      "    - Number of GPUs:               1          (1 available on the machine)\n",
      "    - Dataset size:                 720        (len(train_set))\n",
      "    - Batch size per GPU:           8          (batch_size)\n",
      "    - Batch Accumulate:             1          (batch_accumulate)\n",
      "    - Total batch size:             8          (num_gpus * batch_size)\n",
      "    - Effective Batch size:         8          (num_gpus * batch_size * batch_accumulate)\n",
      "    - Iterations per epoch:         90         (len(train_loader))\n",
      "    - Gradient updates per epoch:   90         (len(train_loader) / batch_accumulate)\n",
      "\n",
      "[2023-08-29 11:50:51] INFO - sg_trainer.py - Started training for 60 epochs (0/59)\n",
      "\n",
      "Train epoch 0:  58%|█████▊    | 52/90 [08:59<06:35, 10.42s/it, PPYoloELoss/loss=2.02, PPYoloELoss/loss_cls=0.958, PPYoloELoss/loss_dfl=1.22, PPYoloELoss/loss_iou=0.184, gpu_mem=6.68]"
     ]
    }
   ],
   "source": [
    "\n",
    "%%time\n",
    "trainer.train(model=best_model, \n",
    "              training_params=train_params, \n",
    "              train_loader=train_data, \n",
    "              valid_loader=val_data)"
   ]
  },
  {
   "cell_type": "code",
   "execution_count": 12,
   "metadata": {},
   "outputs": [
    {
     "name": "stderr",
     "output_type": "stream",
     "text": [
      "Testing:  80%|████████  | 4/5 [00:24<00:06,  6.15s/it]"
     ]
    },
    {
     "data": {
      "text/plain": [
       "{'PPYoloELoss/loss_cls': 1.5110692,\n",
       " 'PPYoloELoss/loss_iou': 0.2880601,\n",
       " 'PPYoloELoss/loss_dfl': 1.7747238,\n",
       " 'PPYoloELoss/loss': 3.118581,\n",
       " 'Precision@0.50': 0.0147237004712224,\n",
       " 'Recall@0.50': 0.7934203147888184,\n",
       " 'mAP@0.50': 0.3515881597995758,\n",
       " 'F1@0.50': 0.02878555841743946}"
      ]
     },
     "execution_count": 12,
     "metadata": {},
     "output_type": "execute_result"
    },
    {
     "name": "stderr",
     "output_type": "stream",
     "text": [
      "Testing: 100%|██████████| 5/5 [00:26<00:00,  5.29s/it]\n"
     ]
    }
   ],
   "source": [
    "trainer.test(model=best_model,\n",
    "            test_loader=test_data,\n",
    "            test_metrics_list=DetectionMetrics_050(score_thres=0.1, \n",
    "                                                   top_k_predictions=300, \n",
    "                                                   num_cls=len(dataset_params['classes']), \n",
    "                                                   normalize_targets=True, \n",
    "                                                   post_prediction_callback=PPYoloEPostPredictionCallback(score_threshold=0.01, \n",
    "                                                                                                          nms_top_k=1000, \n",
    "                                                                                                          max_predictions=300,                                                                              \n",
    "                                                                                                          nms_threshold=0.7)\n",
    "                                                  ))"
   ]
  },
  {
   "cell_type": "code",
   "execution_count": null,
   "metadata": {},
   "outputs": [],
   "source": [
    "img_url = 'D:/PROJECTS/ibm_hackathon/project_industry/newnew_data/data/p1.jpeg'\n",
    "best_model.predict(img_url).show()   # for predicting the images"
   ]
  },
  {
   "cell_type": "code",
   "execution_count": null,
   "metadata": {},
   "outputs": [],
   "source": [
    "import torch\n",
    "device = 0 if torch.cuda.is_available() else \"cpu\"\n",
    "\n",
    "input_video_path = \"D:/PROJECTS/ibm_hackathon/project_industry/v3.mp4\" # input location of video\n",
    "output_video_path = \"D:/PROJECTS/ibm_hackathon/project_industry/v9.mp4\" # output storage of video \n",
    "#device=0\n",
    "\n",
    "best_model.to(device).predict(input_video_path).save(output_video_path)   # predicting and labeling in the input video and then it gets saved in the output location"
   ]
  },
  {
   "cell_type": "code",
   "execution_count": null,
   "metadata": {},
   "outputs": [],
   "source": []
  },
  {
   "cell_type": "code",
   "execution_count": null,
   "metadata": {},
   "outputs": [],
   "source": []
  }
 ],
 "metadata": {
  "kernelspec": {
   "display_name": "project_ibmhackathon",
   "language": "python",
   "name": "project_ibmhackathon"
  },
  "language_info": {
   "codemirror_mode": {
    "name": "ipython",
    "version": 3
   },
   "file_extension": ".py",
   "mimetype": "text/x-python",
   "name": "python",
   "nbconvert_exporter": "python",
   "pygments_lexer": "ipython3",
   "version": "3.9.17"
  },
  "orig_nbformat": 4
 },
 "nbformat": 4,
 "nbformat_minor": 2
}
