{
 "cells": [
  {
   "cell_type": "code",
   "execution_count": 1,
   "metadata": {},
   "outputs": [
    {
     "name": "stdout",
     "output_type": "stream",
     "text": [
      "The console stream is logged into C:\\Users\\ravit\\sg_logs\\console.log\n"
     ]
    },
    {
     "name": "stderr",
     "output_type": "stream",
     "text": [
      "[2023-08-29 08:50:30] INFO - crash_tips_setup.py - Crash tips is enabled. You can set your environment variable to CRASH_HANDLER=FALSE to disable it\n",
      "[2023-08-29 08:50:31] WARNING - redirects.py - NOTE: Redirects are currently not supported in Windows or MacOs.\n",
      "c:\\Users\\ravit\\anaconda3\\envs\\project_ibmhackathon\\lib\\site-packages\\_distutils_hack\\__init__.py:33: UserWarning: Setuptools is replacing distutils.\n",
      "  warnings.warn(\"Setuptools is replacing distutils.\")\n",
      "[2023-08-29 08:50:36] WARNING - __init__.py - Failed to import pytorch_quantization\n",
      "[2023-08-29 08:50:36] WARNING - calibrator.py - Failed to import pytorch_quantization\n",
      "[2023-08-29 08:50:36] WARNING - export.py - Failed to import pytorch_quantization\n",
      "[2023-08-29 08:50:36] WARNING - selective_quantization_utils.py - Failed to import pytorch_quantization\n",
      "[2023-08-29 08:50:36] WARNING - env_sanity_check.py - \u001b[31mFailed to verify operating system: Deci officially supports only Linux kernels. Some features may not work as expected.\u001b[0m\n"
     ]
    }
   ],
   "source": [
    "from super_gradients.training import Trainer\n",
    "from super_gradients.training import dataloaders\n",
    "from super_gradients.training.dataloaders.dataloaders import coco_detection_yolo_format_train, coco_detection_yolo_format_val"
   ]
  },
  {
   "cell_type": "code",
   "execution_count": 2,
   "metadata": {},
   "outputs": [],
   "source": [
    "from IPython.display import clear_output\n",
    "from super_gradients.training.losses import PPYoloELoss\n",
    "from super_gradients.training.metrics import DetectionMetrics_050\n",
    "from super_gradients.training.models.detection_models.pp_yolo_e import PPYoloEPostPredictionCallback"
   ]
  },
  {
   "cell_type": "code",
   "execution_count": 3,
   "metadata": {},
   "outputs": [],
   "source": [
    "from super_gradients.training import models"
   ]
  },
  {
   "cell_type": "code",
   "execution_count": null,
   "metadata": {},
   "outputs": [],
   "source": []
  },
  {
   "cell_type": "code",
   "execution_count": 4,
   "metadata": {},
   "outputs": [],
   "source": [
    "CHECKPOINT_DIR = 'D://PROJECTS/ibm_hackathon/project_industry/newnew_data/newcheckpoints'\n",
    "trainer = Trainer(experiment_name='yolo_nas', ckpt_root_dir=CHECKPOINT_DIR)"
   ]
  },
  {
   "cell_type": "code",
   "execution_count": 5,
   "metadata": {},
   "outputs": [],
   "source": [
    "\n",
    "dataset_params = {\n",
    "    'data_dir':'D:/PROJECTS/ibm_hackathon/project_industry/newnew_data',\n",
    "    'train_images_dir':'D:/PROJECTS/ibm_hackathon/project_industry/newnew_data/data/train/images',\n",
    "    'train_labels_dir':'D:/PROJECTS/ibm_hackathon/project_industry/newnew_data/data/train/labels',\n",
    "    'val_images_dir':'D:/PROJECTS/ibm_hackathon/project_industry/newnew_data/data/valid/images',\n",
    "    'val_labels_dir':'D:/PROJECTS/ibm_hackathon/project_industry/newnew_data/data/valid/labels',\n",
    "    'test_images_dir':'D:/PROJECTS/ibm_hackathon/project_industry/newnew_data/data/test/images',\n",
    "    'test_labels_dir':'D:/PROJECTS/ibm_hackathon/project_industry/newnew_data/data/test/labels',\n",
    "    'classes':['Fall Detected', 'Fire', 'Person', 'Smoke', 'Vest', 'hard hat']\n",
    "}"
   ]
  },
  {
   "cell_type": "code",
   "execution_count": 6,
   "metadata": {},
   "outputs": [
    {
     "name": "stderr",
     "output_type": "stream",
     "text": [
      "Caching annotations: 100%|██████████| 34/34 [00:00<00:00, 838.39it/s]\n"
     ]
    }
   ],
   "source": [
    "train_data = coco_detection_yolo_format_train(\n",
    "    dataset_params={\n",
    "        'data_dir': dataset_params['data_dir'],\n",
    "        'images_dir': dataset_params['train_images_dir'],\n",
    "        'labels_dir': dataset_params['train_labels_dir'],\n",
    "        'classes': dataset_params['classes']\n",
    "    },\n",
    "    dataloader_params={\n",
    "        'batch_size':8,\n",
    "        'num_workers':0\n",
    "    }\n",
    ")\n",
    "\n",
    "val_data = coco_detection_yolo_format_val(\n",
    "    dataset_params={\n",
    "        'data_dir': dataset_params['data_dir'],\n",
    "        'images_dir': dataset_params['val_images_dir'],\n",
    "        'labels_dir': dataset_params['val_labels_dir'],\n",
    "        'classes': dataset_params['classes']\n",
    "    },\n",
    "    dataloader_params={\n",
    "        'batch_size':8,\n",
    "        'num_workers':0\n",
    "    }\n",
    ")\n",
    "\n",
    "test_data = coco_detection_yolo_format_val(\n",
    "    dataset_params={\n",
    "        'data_dir': dataset_params['data_dir'],\n",
    "        'images_dir': dataset_params['test_images_dir'],\n",
    "        'labels_dir': dataset_params['test_labels_dir'],\n",
    "        'classes': dataset_params['classes']\n",
    "    },\n",
    "    dataloader_params={\n",
    "        'batch_size':8,\n",
    "        'num_workers':0\n",
    "    }\n",
    ")\n",
    "\n",
    "clear_output()"
   ]
  },
  {
   "cell_type": "code",
   "execution_count": 7,
   "metadata": {},
   "outputs": [
    {
     "name": "stderr",
     "output_type": "stream",
     "text": [
      "[2023-08-29 08:50:47] INFO - checkpoint_utils.py - License Notification: YOLO-NAS pre-trained weights are subjected to the specific license terms and conditions detailed in \n",
      "https://github.com/Deci-AI/super-gradients/blob/master/LICENSE.YOLONAS.md\n",
      "By downloading the pre-trained weight files you agree to comply with these terms.\n"
     ]
    }
   ],
   "source": [
    "\n",
    "model = models.get('yolo_nas_l', \n",
    "                   num_classes=len(dataset_params['classes']), \n",
    "                   pretrained_weights=\"coco\"\n",
    "                   )\n",
    "     "
   ]
  },
  {
   "cell_type": "code",
   "execution_count": 20,
   "metadata": {},
   "outputs": [],
   "source": [
    "train_params = {\n",
    "    # ENABLING SILENT MODE\n",
    "    'silent_mode': False,\n",
    "    \"average_best_models\":True,\n",
    "    \"warmup_mode\": \"linear_epoch_step\",\n",
    "    \"warmup_initial_lr\": 1e-5,\n",
    "    \"lr_warmup_epochs\": 4,\n",
    "    \"initial_lr\": 5e-3,\n",
    "    \"lr_mode\": \"cosine\",\n",
    "    \"cosine_final_lr_ratio\": 0.2,\n",
    "    \"optimizer\": \"Adam\",\n",
    "    \"optimizer_params\": {\"weight_decay\": 0.00001},\n",
    "    \"zero_weight_decay_on_bias_and_bn\": True,\n",
    "    \"ema\": True,\n",
    "    \"ema_params\": {\"decay\": 0.9, \"decay_type\": \"threshold\"},\n",
    "    # ONLY TRAINING FOR 10 EPOCHS FOR THIS EXAMPLE NOTEBOOK\n",
    "    \"max_epochs\":60,\n",
    "    \"mixed_precision\": True,\n",
    "    \"loss\": PPYoloELoss(\n",
    "        use_static_assigner=False,\n",
    "        # NOTE: num_classes needs to be defined here\n",
    "        num_classes=len(dataset_params['classes']),\n",
    "        reg_max=16\n",
    "    ),\n",
    "    \"valid_metrics_list\": [\n",
    "        DetectionMetrics_050(\n",
    "            score_thres=0.1,\n",
    "            top_k_predictions=300,\n",
    "            # NOTE: num_classes needs to be defined here\n",
    "            num_cls=len(dataset_params['classes']),\n",
    "            normalize_targets=True,\n",
    "            post_prediction_callback=PPYoloEPostPredictionCallback(\n",
    "                score_threshold=0.01,\n",
    "                nms_top_k=1000,\n",
    "                max_predictions=300,\n",
    "                nms_threshold=0.7\n",
    "            )\n",
    "        )\n",
    "    ],\n",
    "    \"metric_to_watch\": 'mAP@0.50'\n",
    "}\n"
   ]
  },
  {
   "cell_type": "code",
   "execution_count": 21,
   "metadata": {},
   "outputs": [
    {
     "name": "stderr",
     "output_type": "stream",
     "text": [
      "[2023-08-29 11:50:44] INFO - checkpoint_utils.py - Successfully loaded model weights from D://PROJECTS/ibm_hackathon/project_industry/newnew_data/checkpoints/yolo_nas/ckpt_best.pth EMA checkpoint.\n"
     ]
    }
   ],
   "source": [
    " best_model = models.get('yolo_nas_l',\n",
    "                        num_classes=len(dataset_params['classes']),\n",
    "                        checkpoint_path=\"D://PROJECTS/ibm_hackathon/project_industry/newnew_data/checkpoints/yolo_nas/ckpt_best.pth\")\n",
    "# this part of code is used to load the model from the checkpoints "
   ]
  },
  {
   "cell_type": "code",
   "execution_count": null,
   "metadata": {},
   "outputs": [],
   "source": []
  },
  {
   "cell_type": "code",
   "execution_count": null,
   "metadata": {},
   "outputs": [],
   "source": []
  },
  {
   "cell_type": "code",
   "execution_count": null,
   "metadata": {},
   "outputs": [],
   "source": [
    "img_url = 'D:/PROJECTS/ibm_hackathon/project_industry/newnew_data/data/p1.jpeg'\n",
    "best_model.predict(img_url).show()   # for predicting the images"
   ]
  },
  {
   "cell_type": "code",
   "execution_count": null,
   "metadata": {},
   "outputs": [],
   "source": [
    "import torch\n",
    "device = 0 if torch.cuda.is_available() else \"cpu\"\n",
    "\n",
    "input_video_path = \"D:/PROJECTS/ibm_hackathon/project_industry/v3.mp4\" # input location of video\n",
    "output_video_path = \"D:/PROJECTS/ibm_hackathon/project_industry/v9.mp4\" # output storage of video \n",
    "#device=0\n",
    "\n",
    "best_model.to(device).predict(input_video_path).save(output_video_path)   # predicting and labeling in the input video and then it gets saved in the output location"
   ]
  },
  {
   "cell_type": "code",
   "execution_count": null,
   "metadata": {},
   "outputs": [],
   "source": []
  },
  {
   "cell_type": "code",
   "execution_count": null,
   "metadata": {},
   "outputs": [],
   "source": []
  }
 ],
 "metadata": {
  "kernelspec": {
   "display_name": "project_ibmhackathon",
   "language": "python",
   "name": "project_ibmhackathon"
  },
  "language_info": {
   "codemirror_mode": {
    "name": "ipython",
    "version": 3
   },
   "file_extension": ".py",
   "mimetype": "text/x-python",
   "name": "python",
   "nbconvert_exporter": "python",
   "pygments_lexer": "ipython3",
   "version": "3.9.17"
  },
  "orig_nbformat": 4
 },
 "nbformat": 4,
 "nbformat_minor": 2
}
